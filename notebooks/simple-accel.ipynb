{
 "cells": [
  {
   "cell_type": "markdown",
   "id": "8f360643-0fc7-4131-8070-c21743d50fb0",
   "metadata": {},
   "source": [
    "# Test the Accelerators on Simple Examples\n",
    "\n",
    "This notebook tests each of the four accelerators described in Sections 3, 4, and 5 and evaluated in Section 7 on a small example. This ensures that all compilation and modeling are performed correctly."
   ]
  },
  {
   "cell_type": "code",
   "execution_count": 1,
   "id": "9a112574-bdca-4fd0-813a-0b2e05db65d7",
   "metadata": {},
   "outputs": [
    {
     "name": "stdout",
     "output_type": "stream",
     "text": [
      "sys path =  ['/home/hanker/arch/micro23-teaal-artifact/', '/home/hanker/miniconda3/envs/fpsg-uiuc/lib/python312.zip', '/home/hanker/miniconda3/envs/fpsg-uiuc/lib/python3.12', '/home/hanker/miniconda3/envs/fpsg-uiuc/lib/python3.12/lib-dynload', '', '/home/hanker/miniconda3/envs/fpsg-uiuc/lib/python3.12/site-packages']\n"
     ]
    },
    {
     "ename": "ModuleNotFoundError",
     "evalue": "No module named 'scipy'",
     "output_type": "error",
     "traceback": [
      "\u001b[31m---------------------------------------------------------------------------\u001b[39m",
      "\u001b[31mModuleNotFoundError\u001b[39m                       Traceback (most recent call last)",
      "\u001b[36mCell\u001b[39m\u001b[36m \u001b[39m\u001b[32mIn[1]\u001b[39m\u001b[32m, line 9\u001b[39m\n\u001b[32m      5\u001b[39m \u001b[38;5;28mprint\u001b[39m(\u001b[33m\"\u001b[39m\u001b[33msys path = \u001b[39m\u001b[33m\"\u001b[39m, sys.path)\n\u001b[32m      7\u001b[39m \u001b[38;5;28;01mfrom\u001b[39;00m\u001b[38;5;250m \u001b[39m\u001b[34;01mfibertree\u001b[39;00m\u001b[38;5;250m \u001b[39m\u001b[38;5;28;01mimport\u001b[39;00m Tensor\n\u001b[32m----> \u001b[39m\u001b[32m9\u001b[39m \u001b[38;5;28;01mimport\u001b[39;00m\u001b[38;5;250m \u001b[39m\u001b[34;01mscripts\u001b[39;00m\u001b[34;01m.\u001b[39;00m\u001b[34;01mextensor\u001b[39;00m\u001b[38;5;250m \u001b[39m\u001b[38;5;28;01mas\u001b[39;00m\u001b[38;5;250m \u001b[39m\u001b[34;01mextensor\u001b[39;00m\n\u001b[32m     10\u001b[39m \u001b[38;5;28;01mimport\u001b[39;00m\u001b[38;5;250m \u001b[39m\u001b[34;01mscripts\u001b[39;00m\u001b[34;01m.\u001b[39;00m\u001b[34;01mextensor_energy\u001b[39;00m\u001b[38;5;250m \u001b[39m\u001b[38;5;28;01mas\u001b[39;00m\u001b[38;5;250m \u001b[39m\u001b[34;01mextensor_energy\u001b[39;00m\n\u001b[32m     11\u001b[39m \u001b[38;5;28;01mimport\u001b[39;00m\u001b[38;5;250m \u001b[39m\u001b[34;01mscripts\u001b[39;00m\u001b[34;01m.\u001b[39;00m\u001b[34;01mgamma\u001b[39;00m\u001b[38;5;250m \u001b[39m\u001b[38;5;28;01mas\u001b[39;00m\u001b[38;5;250m \u001b[39m\u001b[34;01mgamma\u001b[39;00m\n",
      "\u001b[36mFile \u001b[39m\u001b[32m~/arch/micro23-teaal-artifact/scripts/extensor.py:16\u001b[39m\n\u001b[32m     13\u001b[39m \u001b[38;5;28;01mfrom\u001b[39;00m\u001b[38;5;250m \u001b[39m\u001b[34;01mteaal\u001b[39;00m\u001b[34;01m.\u001b[39;00m\u001b[34;01mparse\u001b[39;00m\u001b[38;5;250m \u001b[39m\u001b[38;5;28;01mimport\u001b[39;00m Format \u001b[38;5;28;01mas\u001b[39;00m FormatParser\n\u001b[32m     14\u001b[39m \u001b[38;5;28;01mfrom\u001b[39;00m\u001b[38;5;250m \u001b[39m\u001b[34;01mteaal\u001b[39;00m\u001b[34;01m.\u001b[39;00m\u001b[34;01mtrans\u001b[39;00m\u001b[34;01m.\u001b[39;00m\u001b[34;01mhifiber\u001b[39;00m\u001b[38;5;250m \u001b[39m\u001b[38;5;28;01mimport\u001b[39;00m HiFiber\n\u001b[32m---> \u001b[39m\u001b[32m16\u001b[39m \u001b[38;5;28;01mfrom\u001b[39;00m\u001b[38;5;250m \u001b[39m\u001b[34;01mscripts\u001b[39;00m\u001b[34;01m.\u001b[39;00m\u001b[34;01mconvert\u001b[39;00m\u001b[38;5;250m \u001b[39m\u001b[38;5;28;01mimport\u001b[39;00m convert\n\u001b[32m     17\u001b[39m \u001b[38;5;28;01mfrom\u001b[39;00m\u001b[38;5;250m \u001b[39m\u001b[34;01mscripts\u001b[39;00m\u001b[34;01m.\u001b[39;00m\u001b[34;01mdownload\u001b[39;00m\u001b[38;5;250m \u001b[39m\u001b[38;5;28;01mimport\u001b[39;00m download\n\u001b[32m     18\u001b[39m \u001b[38;5;28;01mimport\u001b[39;00m\u001b[38;5;250m \u001b[39m\u001b[34;01mscripts\u001b[39;00m\u001b[34;01m.\u001b[39;00m\u001b[34;01mgraph_utils\u001b[39;00m\u001b[38;5;250m \u001b[39m\u001b[38;5;28;01mas\u001b[39;00m\u001b[38;5;250m \u001b[39m\u001b[34;01mutils\u001b[39;00m\n",
      "\u001b[36mFile \u001b[39m\u001b[32m~/arch/micro23-teaal-artifact/scripts/convert.py:3\u001b[39m\n\u001b[32m      1\u001b[39m \u001b[38;5;66;03m# Load the tensors as fibertrees\u001b[39;00m\n\u001b[32m----> \u001b[39m\u001b[32m3\u001b[39m \u001b[38;5;28;01mimport\u001b[39;00m\u001b[38;5;250m \u001b[39m\u001b[34;01mscipy\u001b[39;00m\u001b[34;01m.\u001b[39;00m\u001b[34;01mio\u001b[39;00m\u001b[38;5;250m \u001b[39m\u001b[38;5;28;01mas\u001b[39;00m\u001b[38;5;250m \u001b[39m\u001b[34;01msio\u001b[39;00m\n\u001b[32m      5\u001b[39m \u001b[38;5;28;01mfrom\u001b[39;00m\u001b[38;5;250m \u001b[39m\u001b[34;01mfibertree\u001b[39;00m\u001b[38;5;250m \u001b[39m\u001b[38;5;28;01mimport\u001b[39;00m Tensor\n\u001b[32m      8\u001b[39m \u001b[38;5;28;01mdef\u001b[39;00m\u001b[38;5;250m \u001b[39m\u001b[34mgetSciPy\u001b[39m(name):\n",
      "\u001b[31mModuleNotFoundError\u001b[39m: No module named 'scipy'"
     ]
    }
   ],
   "source": [
    "import os\n",
    "import sys\n",
    "sys.path.insert(0, \"/home/hanker/arch/micro23-teaal-artifact/\")\n",
    "\n",
    "print(\"sys path = \", sys.path)\n",
    "\n",
    "from fibertree import Tensor\n",
    "\n",
    "import scripts.extensor as extensor\n",
    "import scripts.extensor_energy as extensor_energy\n",
    "import scripts.gamma as gamma\n",
    "import scripts.outerspace as outerspace\n",
    "import scripts.sigma as sigma"
   ]
  },
  {
   "cell_type": "code",
   "execution_count": null,
   "id": "eb554a86-2f27-414b-9a10-0fff678b8550",
   "metadata": {},
   "outputs": [],
   "source": [
    "K = 8\n",
    "M = 6\n",
    "N = 7\n",
    "density = 0.5\n",
    "\n",
    "# Create the tensors\n",
    "A_KM = Tensor.fromRandom(rank_ids=[\"K\", \"M\"], shape=[K, M], density=[0.9, density], seed=0)\n",
    "B_KN = Tensor.fromRandom(rank_ids=[\"K\", \"N\"], shape=[K, N], density=[0.9, density], seed=1)"
   ]
  },
  {
   "cell_type": "code",
   "execution_count": null,
   "id": "65540a7c-5ec4-460f-ba28-ace377930736",
   "metadata": {},
   "outputs": [],
   "source": [
    "extensor.check(extensor.run(A_KM, B_KN, 2, 2, 2, 2))"
   ]
  },
  {
   "cell_type": "code",
   "execution_count": null,
   "id": "96f4d067-f206-4835-b8c5-da16c5abc645",
   "metadata": {},
   "outputs": [],
   "source": [
    "extensor_energy.check(extensor_energy.run(A_KM, B_KN, 2, 2, 2, 2))"
   ]
  },
  {
   "cell_type": "code",
   "execution_count": null,
   "id": "34b8f9b2-419f-4a02-87ca-0066943ae4c5",
   "metadata": {},
   "outputs": [],
   "source": [
    "A_MK = A_KM.swizzleRanks([\"M\", \"K\"])\n",
    "gamma.check(gamma.run(A_MK, B_KN))"
   ]
  },
  {
   "cell_type": "code",
   "execution_count": null,
   "id": "fe9a6dad-95ac-40d3-8164-93a4de12ca77",
   "metadata": {},
   "outputs": [],
   "source": [
    "outerspace.check(outerspace.run(A_KM, B_KN))"
   ]
  },
  {
   "cell_type": "code",
   "execution_count": null,
   "id": "0930b023-2933-45e5-ae20-96d342b22e58",
   "metadata": {},
   "outputs": [],
   "source": [
    "sigma.check(sigma.run(A_KM, B_KN))"
   ]
  },
  {
   "cell_type": "code",
   "execution_count": null,
   "id": "affc486b-a9a2-4c7b-9cfc-1f49fa49e92e",
   "metadata": {},
   "outputs": [],
   "source": []
  }
 ],
 "metadata": {
  "kernelspec": {
   "display_name": "fpsg-uiuc",
   "language": "python",
   "name": "python3"
  },
  "language_info": {
   "codemirror_mode": {
    "name": "ipython",
    "version": 3
   },
   "file_extension": ".py",
   "mimetype": "text/x-python",
   "name": "python",
   "nbconvert_exporter": "python",
   "pygments_lexer": "ipython3",
   "version": "3.12.9"
  }
 },
 "nbformat": 4,
 "nbformat_minor": 5
}
